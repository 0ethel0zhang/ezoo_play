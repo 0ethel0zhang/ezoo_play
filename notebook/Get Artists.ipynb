{
 "cells": [
  {
   "cell_type": "code",
   "execution_count": 1,
   "metadata": {},
   "outputs": [],
   "source": [
    "import spotipy\n",
    "from spotipy.oauth2 import SpotifyClientCredentials\n",
    "import spotipy.util as util\n",
    "\n",
    "import getpass\n",
    "import logging"
   ]
  },
  {
   "cell_type": "markdown",
   "metadata": {},
   "source": [
    "# Read artists"
   ]
  },
  {
   "cell_type": "code",
   "execution_count": 64,
   "metadata": {},
   "outputs": [],
   "source": [
    "file = open(\"../data/artists.txt\",\"r\") "
   ]
  },
  {
   "cell_type": "code",
   "execution_count": 65,
   "metadata": {},
   "outputs": [],
   "source": [
    "u_artists = [x.replace(\"\\n\", \"\") for x in file.readlines()]"
   ]
  },
  {
   "cell_type": "code",
   "execution_count": 66,
   "metadata": {},
   "outputs": [],
   "source": [
    "file.close() "
   ]
  },
  {
   "cell_type": "code",
   "execution_count": 67,
   "metadata": {},
   "outputs": [
    {
     "data": {
      "text/plain": [
       "49"
      ]
     },
     "execution_count": 67,
     "metadata": {},
     "output_type": "execute_result"
    }
   ],
   "source": [
    "len(u_artists)"
   ]
  },
  {
   "cell_type": "markdown",
   "metadata": {},
   "source": [
    "# Get Spotify Access"
   ]
  },
  {
   "cell_type": "code",
   "execution_count": 5,
   "metadata": {},
   "outputs": [],
   "source": [
    "\"\"\"create a log for errors\"\"\"\n",
    "logger = logging.getLogger('ezooplaylist')\n",
    "hdlr = logging.FileHandler('../out/playlists.log')\n",
    "formatter = logging.Formatter('%(asctime)s %(levelname)s %(message)s')\n",
    "hdlr.setFormatter(formatter)\n",
    "logger.addHandler(hdlr)\n",
    "logger.setLevel(logging.INFO)"
   ]
  },
  {
   "cell_type": "code",
   "execution_count": 6,
   "metadata": {},
   "outputs": [
    {
     "name": "stdout",
     "output_type": "stream",
     "text": [
      "········\n",
      "········\n"
     ]
    }
   ],
   "source": [
    "\"\"\"get access from spotify\"\"\"\n",
    "sp = spotipy.Spotify()\n",
    "#get access info\n",
    "cid = getpass.getpass()\n",
    "secret = getpass.getpass()\n",
    "logger.info(\"got spotify access info\")\n",
    "#establish access\n",
    "client_credentials_manager = SpotifyClientCredentials(client_id=cid, client_secret=secret)\n",
    "sp = spotipy.Spotify(client_credentials_manager=client_credentials_manager)\n",
    "logger.info(\"got spotify access\")"
   ]
  },
  {
   "cell_type": "code",
   "execution_count": 7,
   "metadata": {},
   "outputs": [],
   "source": [
    "\"\"\"find an aritist's top spotify songs uri(s) based on the artist's spotify id\"\"\"\n",
    "def get_top_songs_for_artist(artist, song_count=5):\n",
    "    \"\"\"find an aritist's top spotify songs uri(s) based on the artist's spotify id.\n",
    "    Args:\n",
    "        artist (str): name of an artist\n",
    "        song_count (int): number of top songs you want to find\n",
    "    Returns:\n",
    "        song_ids (list): top n song uris\n",
    "    \"\"\"\n",
    "    song_ids = []\n",
    "    try:\n",
    "        t = sp.search(\"artist:{}\".format(artist), limit = 1)\n",
    "        artist_id = t['tracks']['items'][0]['artists'][0]['id']\n",
    "        artist_top_tracks = sp.artist_top_tracks(artist_id)\n",
    "        artist_top_tracks_length = len(artist_top_tracks['tracks'])\n",
    "        for i in range(0, artist_top_tracks_length if song_count > artist_top_tracks_length else song_count ):\n",
    "            song_ids.append(artist_top_tracks['tracks'][i]['uri'])\n",
    "            logger.info(str(len(song_ids)) + ' songs found - ' + artist)\n",
    "    except:\n",
    "        logger.info('Artist not found - ' + artist)\n",
    "    return song_ids"
   ]
  },
  {
   "cell_type": "code",
   "execution_count": 8,
   "metadata": {},
   "outputs": [
    {
     "name": "stdout",
     "output_type": "stream",
     "text": [
      "········\n"
     ]
    }
   ],
   "source": [
    "\"\"\"input user name\"\"\"\n",
    "username = getpass.getpass()"
   ]
  },
  {
   "cell_type": "code",
   "execution_count": 18,
   "metadata": {},
   "outputs": [],
   "source": [
    "\"\"\"get token for user authentication\"\"\"\n",
    "token = util.prompt_for_user_token(username, \n",
    "                                   scope='playlist-modify-private,playlist-modify-public', \n",
    "                                   client_id = cid, \n",
    "                                   client_secret=secret,\n",
    "                                   redirect_uri='http://localhost:8888/callback')"
   ]
  },
  {
   "cell_type": "code",
   "execution_count": 19,
   "metadata": {},
   "outputs": [],
   "source": [
    "\"\"\"establish connection\"\"\"\n",
    "sp = spotipy.Spotify(auth=token)"
   ]
  },
  {
   "cell_type": "code",
   "execution_count": 11,
   "metadata": {},
   "outputs": [],
   "source": [
    "playlists = sp.user_playlists(username)"
   ]
  },
  {
   "cell_type": "code",
   "execution_count": 12,
   "metadata": {},
   "outputs": [],
   "source": [
    "for p in playlists['items']:\n",
    "    if p['name'] == 'Electric Zoo 2019':\n",
    "        p_id = p['id']"
   ]
  },
  {
   "cell_type": "code",
   "execution_count": 13,
   "metadata": {
    "scrolled": true
   },
   "outputs": [],
   "source": [
    "if not 'p_id' in globals():\n",
    "    sp.user_playlist_create(username, \"Electric Zoo 2019\")\n",
    "    for p in playlists['items']:\n",
    "        if p['name'] == 'Electric Zoo 2019':\n",
    "            p_id = p['id']"
   ]
  },
  {
   "cell_type": "code",
   "execution_count": 20,
   "metadata": {},
   "outputs": [],
   "source": [
    "e_lst = sp.user_playlist(username, p_id)"
   ]
  },
  {
   "cell_type": "code",
   "execution_count": 38,
   "metadata": {},
   "outputs": [],
   "source": [
    "if len(e_lst['tracks']['items']) > 0:\n",
    "    exist_song_ids = []\n",
    "    for item in e_lst['tracks']['items']:\n",
    "        exist_song_ids.append(item['track']['uri'])"
   ]
  },
  {
   "cell_type": "code",
   "execution_count": 44,
   "metadata": {},
   "outputs": [],
   "source": [
    "api_track_add_limit = 100"
   ]
  },
  {
   "cell_type": "code",
   "execution_count": 45,
   "metadata": {},
   "outputs": [],
   "source": [
    "all_track_ids = []\n",
    "for current_artist in u_artists:\n",
    "    top_song_limit_per_artist = 4\n",
    "    top_artist_songs = get_top_songs_for_artist(current_artist, top_song_limit_per_artist)\n",
    "    if 'exist_song_ids' in globals():\n",
    "        all_track_ids.extend([x for x in top_artist_songs if x not in exist_song_ids])\n",
    "    else:\n",
    "        all_track_ids.extend(top_artist_songs)"
   ]
  },
  {
   "cell_type": "code",
   "execution_count": 46,
   "metadata": {},
   "outputs": [],
   "source": [
    "all_songs_len = len(all_track_ids)"
   ]
  },
  {
   "cell_type": "code",
   "execution_count": 48,
   "metadata": {},
   "outputs": [
    {
     "data": {
      "text/plain": [
       "{'snapshot_id': 'Myw0ZTRiYzFlZTI4YTM3M2Y5Yjc3NTgzMzJiNzY0M2E3ZjQ2MzhhM2Rm'}"
      ]
     },
     "execution_count": 48,
     "metadata": {},
     "output_type": "execute_result"
    }
   ],
   "source": [
    "sp.user_playlist_add_tracks(user=username, \n",
    "                            playlist_id=p_id, \n",
    "                            tracks=all_track_ids[:min(api_track_add_limit, all_songs_len)])"
   ]
  }
 ],
 "metadata": {
  "kernelspec": {
   "display_name": "Python 3",
   "language": "python",
   "name": "python3"
  },
  "language_info": {
   "codemirror_mode": {
    "name": "ipython",
    "version": 3
   },
   "file_extension": ".py",
   "mimetype": "text/x-python",
   "name": "python",
   "nbconvert_exporter": "python",
   "pygments_lexer": "ipython3",
   "version": "3.7.3"
  }
 },
 "nbformat": 4,
 "nbformat_minor": 2
}
